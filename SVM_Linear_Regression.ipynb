{
 "cells": [
  {
   "cell_type": "code",
   "execution_count": 8,
   "metadata": {},
   "outputs": [],
   "source": [
    "import matplotlib.pyplot as plt\n",
    "import numpy as np\n",
    "mean1 = np.array([0, 0])\n",
    "cov1 = np.eye(2, 2)\n",
    "mean2 = np.array([4, 5])\n",
    "cov2 = np.eye(2, 2)\n"
   ]
  },
  {
   "cell_type": "code",
   "execution_count": 9,
   "metadata": {},
   "outputs": [],
   "source": [
    "a = np.random.multivariate_normal(mean1, cov1, (50, 1))\n",
    "b = np.random.multivariate_normal(mean2, cov2, (50, 1))\n",
    "trainingdata = np.append(a, b)\n",
    "trainingdata = trainingdata.reshape(100, 2)\n",
    "traininglabels = np.append([-1 for i in range(50)], np.ones(50))\n",
    "traininglabels = traininglabels.reshape(100, 1)\n",
    "trainingdata = np.append(trainingdata, traininglabels, axis=1)\n",
    "trainingdata = np.insert(trainingdata, 0, 1, axis=1)\n"
   ]
  },
  {
   "cell_type": "code",
   "execution_count": 10,
   "metadata": {},
   "outputs": [],
   "source": [
    "a = np.random.multivariate_normal(mean1, cov1, (25, 1))\n",
    "b = np.random.multivariate_normal(mean2, cov2, (25, 1))\n",
    "testdata = np.append(a, b)\n",
    "testdata = testdata.reshape(50, 2)\n",
    "testlabels = np.append([-1 for i in range(25)], np.ones(25))\n",
    "testlabels = testlabels.reshape(50, 1)\n",
    "testdata = np.append(testdata, testlabels, axis=1)\n",
    "testdata = np.insert(testdata, 0, 1, axis=1)\n"
   ]
  },
  {
   "cell_type": "code",
   "execution_count": 11,
   "metadata": {},
   "outputs": [],
   "source": [
    "\n",
    "\n",
    "def gradient(alpha, iterations):\n",
    "    thetha0 = 0\n",
    "    thetha1 = 0\n",
    "    thetha2 = 0\n",
    "    for i in range(iterations):\n",
    "        temp1 = 0\n",
    "        temp2 = 0\n",
    "        temp3 = 0\n",
    "        for j in trainingdata:\n",
    "            pred = 1\n",
    "            if (thetha0 + thetha1 * j[1] + thetha2 * j[2]) < 0:\n",
    "                pred = -1\n",
    "            temp1 += (pred-j[3]) * j[0]\n",
    "            temp2 += (pred - j[3]) * j[1]\n",
    "            temp3 += (pred - j[3]) * j[2]\n",
    "        thetha0 = thetha0 - 2*alpha * temp1\n",
    "        thetha1 = thetha1 - 2*alpha * temp2\n",
    "        thetha2 = thetha2 - 2*alpha * temp3\n",
    "    return thetha0, thetha1, thetha2\n",
    "\n",
    "\n",
    "weights = gradient(0.000001, 1000)\n"
   ]
  },
  {
   "cell_type": "code",
   "execution_count": 12,
   "metadata": {},
   "outputs": [
    {
     "name": "stdout",
     "output_type": "stream",
     "text": [
      "prediction  [-1, -1, -1, -1, -1, -1, -1, -1, -1, -1, -1, -1, -1, -1, -1, -1, -1, -1, -1, -1, -1, -1, -1, -1, -1, 1, 1, 1, 1, 1, 1, 1, 1, 1, 1, 1, 1, 1, 1, 1, 1, 1, 1, 1, 1, 1, 1, 1, 1, 1]\n",
      "test error 0.0 %\n"
     ]
    }
   ],
   "source": [
    "predictions = []\n",
    "for i in range(len(testdata)):\n",
    "    y_pred = 0\n",
    "    for k in range(3):\n",
    "        y_pred += weights[k]*testdata[i][k]\n",
    "    if (y_pred < 0):\n",
    "        predictions.append(-1)\n",
    "    else:\n",
    "        predictions.append(1)\n",
    "print('prediction ', predictions)\n",
    "accuracy = 0\n",
    "for i in range(len(predictions)):\n",
    "    if predictions[i] == testdata[i][3]:\n",
    "        accuracy += 1\n",
    "accuracy = accuracy/len(predictions)\n",
    "print(\"test error\", 100-accuracy*100, \"%\")\n"
   ]
  },
  {
   "cell_type": "code",
   "execution_count": 13,
   "metadata": {},
   "outputs": [
    {
     "data": {
      "image/png": "[encoded data removed]",
      "text/plain": [
       "<Figure size 640x480 with 1 Axes>"
      ]
     },
     "metadata": {},
     "output_type": "display_data"
    }
   ],
   "source": [
    "x = np.linspace(-5, 10, 100)\n",
    "y = np.linspace(-5, 10, 100)\n",
    "X, Y = np.meshgrid(x, y)\n",
    "Z = weights[0] + weights[1]*X + weights[2]*Y\n",
    "plt.contour(X, Y, Z, [0])\n",
    "plt.scatter(trainingdata[0:50, 1], trainingdata[0:50, 2], c='r')\n",
    "plt.scatter(trainingdata[50:100, 1], trainingdata[50:100, 2], c='b')\n",
    "plt.show()\n"
   ]
  }
 ],
 "metadata": {
  "kernelspec": {
   "display_name": "Python 3.10.2 64-bit",
   "language": "python",
   "name": "python3"
  },
  "language_info": {
   "codemirror_mode": {
    "name": "ipython",
    "version": 3
   },
   "file_extension": ".py",
   "mimetype": "text/x-python",
   "name": "python",
   "nbconvert_exporter": "python",
   "pygments_lexer": "ipython3",
   "version": "3.10.2"
  },
  "orig_nbformat": 4,
  "vscode": {
   "interpreter": {
    "hash": "26de051ba29f2982a8de78e945f0abaf191376122a1563185a90213a26c5da77"
   }
  }
 },
 "nbformat": 4,
 "nbformat_minor": 2
}
